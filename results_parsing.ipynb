{
 "cells": [
  {
   "cell_type": "code",
   "execution_count": 2,
   "metadata": {},
   "outputs": [],
   "source": [
    "import pandas as pd\n",
    "import numpy as np\n",
    "import os\n",
    "import argparse\n",
    "import sys"
   ]
  },
  {
   "cell_type": "code",
   "execution_count": 3,
   "metadata": {},
   "outputs": [],
   "source": [
    "file_path = \"/Users/caz3so/scratch/20220915_maxatac_reviews/Leopard/pred_CTCF_GM12878_chr1.npy\""
   ]
  },
  {
   "cell_type": "code",
   "execution_count": 4,
   "metadata": {},
   "outputs": [
    {
     "name": "stdout",
     "output_type": "stream",
     "text": [
      "Load file: pred_CTCF_GM12878_chr1\n",
      "Creating a dataframe\n",
      "Create a col with chr ID\n",
      "Create a col with chr ID\n",
      "Create start\n",
      "Rename start\n"
     ]
    }
   ],
   "source": [
    "basename_file = os.path.basename(file_path).split(\".npy\")[0]\n",
    "\n",
    "print(\"Creating a dataframe\")\n",
    "# Create a dataframe from the NP array\n",
    "preds_DF = pd.DataFrame(predictions)\n",
    "\n",
    "print(\"Create a col with chr ID\")\n",
    "# add a column with the chromosome number, in this case we are only using chr1\n",
    "preds_DF[\"chr\"] = \"chr1\"\n",
    "\n",
    "print(\"Create a col with start\")\n",
    "# add a column with the start position based on the index\n",
    "preds_DF[\"Start\"] = preds_DF[0].index\n",
    "\n",
    "print(\"Create stop\")\n",
    "# add a column with the stop position 1 bp from the start\n",
    "preds_DF[\"Stop\"] = preds_DF[0].index + 1\n",
    "\n",
    "print(\"Rename cols\")\n",
    "# rename the columns\n",
    "preds_DF.columns = [\"score\", \"chrom\", \"start\", \"end\"]\n",
    "\n",
    "# FIll na values with a 0; might need to change later to be more accurate\n",
    "preds_DF.fillna(0, inplace=True)\n",
    "\n",
    "# write to csv file. \n",
    "preds_DF[[\"chrom\", \"start\", \"end\", \"score\"]].to_csv(basename_file + \"_1bp.bed\", sep=\"\\t\", index=False, header=False)\n"
   ]
  },
  {
   "cell_type": "code",
   "execution_count": null,
   "metadata": {},
   "outputs": [],
   "source": []
  }
 ],
 "metadata": {
  "kernelspec": {
   "display_name": "Python 3.9.10 ('maxatac')",
   "language": "python",
   "name": "python3"
  },
  "language_info": {
   "codemirror_mode": {
    "name": "ipython",
    "version": 3
   },
   "file_extension": ".py",
   "mimetype": "text/x-python",
   "name": "python",
   "nbconvert_exporter": "python",
   "pygments_lexer": "ipython3",
   "version": "3.9.10"
  },
  "orig_nbformat": 4,
  "vscode": {
   "interpreter": {
    "hash": "c40e1b489fb11c0bd8cc5a783b5d3b77609a7988a043d25bde579eefe634d11a"
   }
  }
 },
 "nbformat": 4,
 "nbformat_minor": 2
}
